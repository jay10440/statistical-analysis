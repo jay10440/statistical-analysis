{
  "nbformat": 4,
  "nbformat_minor": 0,
  "metadata": {
    "colab": {
      "provenance": [],
      "authorship_tag": "ABX9TyODhiI8qekyTItVhfi2Ny2Q",
      "include_colab_link": true
    },
    "kernelspec": {
      "name": "python3",
      "display_name": "Python 3"
    },
    "language_info": {
      "name": "python"
    }
  },
  "cells": [
    {
      "cell_type": "markdown",
      "metadata": {
        "id": "view-in-github",
        "colab_type": "text"
      },
      "source": [
        "<a href=\"https://colab.research.google.com/github/jay10440/statistical-analysis/blob/main/MendenHall_Chapter_2.ipynb\" target=\"_parent\"><img src=\"https://colab.research.google.com/assets/colab-badge.svg\" alt=\"Open In Colab\"/></a>"
      ]
    },
    {
      "cell_type": "markdown",
      "source": [
        "#Introduction to Probability"
      ],
      "metadata": {
        "id": "A053Zo2fy98k"
      }
    },
    {
      "cell_type": "markdown",
      "source": [
        "## 2.3: A Review of Set Notation"
      ],
      "metadata": {
        "id": "jFCcEn360F7x"
      }
    },
    {
      "cell_type": "markdown",
      "source": [
        "We will quickly go over set  definitions. A set contains elements. Let $A$ and $B$ be sets. Then $A$ is a **subset** of $B$ $A\\subset B$ if every element in $A$ is also in $B$.\n",
        "\n",
        "Example: $A=\\{1, 2, 3\\},\n",
        "B=\\{1, 2, 3, 4\\}$.\n",
        "\n",
        "**Intersection** and **Union** are the usual definitions. The **Complement** is denoted as $\\bar{A}$ is every element in $U$ that is not in $A$ for $A \\subset U$. Cooking up examples for this is pretty simple."
      ],
      "metadata": {
        "id": "14KpkyPL0Ltg"
      }
    },
    {
      "cell_type": "markdown",
      "source": [
        "**Distributive Laws**:\n",
        "$A \\cap (B \\cup C) = (A \\cap B) \\cup (A \\cap C)$\n",
        "$A \\cup (B \\cap C) = (A \\cup B) \\cap (A \\cup C)$\n",
        "\n",
        "**DeMorgan's Laws**:\n",
        "$\\overline{(A \\cap B)} = \\bar{A} \\cup \\bar{B}$\n",
        "$\\overline{(A \\cup B)} = \\bar{A} \\cap \\bar{B}$\n"
      ],
      "metadata": {
        "id": "2-zDGGSX2jbB"
      }
    },
    {
      "cell_type": "markdown",
      "source": [
        "We won't worry too much about the exercises."
      ],
      "metadata": {
        "id": "XAPNZ-o53x7G"
      }
    },
    {
      "cell_type": "markdown",
      "source": [
        "## 2.4: A Probabilistic Model for an Experiment: The Discrete Case"
      ],
      "metadata": {
        "id": "txEJU_sK4FLU"
      }
    },
    {
      "cell_type": "markdown",
      "source": [
        "Definition: An _experiment_ is the prcoess by which an observation is made.\n",
        "\n",
        "Definition: A _simple event_ is an event that cannot be decomposed. Each simple event corresponds to one and only one _sample point_. The letter $E$ with a subscript will be used to denote a simple even tor the corresponding sample point.\n",
        "\n",
        "Definition: The _sample space_ associated with an experiment is the set consisting of all possible sample points. A sample space will be denoted $S$.\n",
        "\n",
        "Notation: $S=\\{E_0, E_1, E_2, ... \\}$.\n",
        "\n",
        "Definition: A _discrete sample space_ is one that contains either a finite or a countable number of distinct sample points.\n",
        "\n",
        "Definition: An _event_ in a discrete sample space $S$ is a collection of sample points - that is, any subset of $S$."
      ],
      "metadata": {
        "id": "v4UUvuZ95KEy"
      }
    },
    {
      "cell_type": "markdown",
      "source": [
        "### Important Axiom for Probability:\n",
        "Suppose $S$ is a sample space associated with an experiment. To every event $A$ in $S$, we assign a number, $P(A)$, called the _probability_ of $A$, so that the following axioms hold:\n",
        "\n",
        "\n",
        "\n",
        "*   Axiom 1: $P(A) \\geq 0$\n",
        "*   Axiom 2: $P(S)=1$\n",
        "*   Axiom 3: $P(A_1 \\cup A_2 \\cup ...) = \\sum_{i=1}^\\infty P(A_i)$\n",
        "\n"
      ],
      "metadata": {
        "id": "jn9hdoil6nzH"
      }
    },
    {
      "cell_type": "markdown",
      "source": [
        "#Chapter 3: Random Variables"
      ],
      "metadata": {
        "id": "XNxa5657Mo0R"
      }
    },
    {
      "cell_type": "markdown",
      "source": [
        "##Probability Distribution for a Discrete Random Variable"
      ],
      "metadata": {
        "id": "HJP2BFD-M-td"
      }
    },
    {
      "cell_type": "markdown",
      "source": [
        "Definition: A random variable $Y$ is said to be _discrete_ if it can assume only a finite or countably infinite number of distinct values.\n",
        "\n",
        "Coin flips fits this.\n",
        "\n",
        "Notation: The expression $(Y=y)$ can be read, the set of all points in $S$ assigned the value $y$ by the random variable $Y$.\n",
        "\n",
        "Definition: The probability that $Y$ takes on the value $y$, $P(Y=y)$, is defined as the **sum of the probabilities of all sample points in** $S$ that are assigned the value $y$. We can use $P(Y=y)\\equiv p(y)$.\n",
        "\n",
        "Definition: The **probability distribution** for a discrete variable $Y$ can be represented by a formula, a table, or a graph that provides $p(y)=P(Y=y)$ for all $y$."
      ],
      "metadata": {
        "id": "4vaQKydWNIl1"
      }
    },
    {
      "cell_type": "code",
      "execution_count": null,
      "metadata": {
        "id": "CODo18rrym5d"
      },
      "outputs": [],
      "source": []
    }
  ]
}